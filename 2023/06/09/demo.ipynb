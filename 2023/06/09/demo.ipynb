{
 "cells": [
  {
   "cell_type": "code",
   "execution_count": 2,
   "metadata": {},
   "outputs": [],
   "source": [
    "import overtime"
   ]
  },
  {
   "cell_type": "code",
   "execution_count": 3,
   "metadata": {},
   "outputs": [
    {
     "name": "stdout",
     "output_type": "stream",
     "text": [
      "Data inserted successfully\n"
     ]
    }
   ],
   "source": [
    "overtime.init_db()"
   ]
  },
  {
   "cell_type": "code",
   "execution_count": 4,
   "metadata": {},
   "outputs": [
    {
     "name": "stdout",
     "output_type": "stream",
     "text": [
      "Added 6 rows to database\n"
     ]
    },
    {
     "data": {
      "text/html": [
       "<div>\n",
       "<style scoped>\n",
       "    .dataframe tbody tr th:only-of-type {\n",
       "        vertical-align: middle;\n",
       "    }\n",
       "\n",
       "    .dataframe tbody tr th {\n",
       "        vertical-align: top;\n",
       "    }\n",
       "\n",
       "    .dataframe thead th {\n",
       "        text-align: right;\n",
       "    }\n",
       "</style>\n",
       "<table border=\"1\" class=\"dataframe\">\n",
       "  <thead>\n",
       "    <tr style=\"text-align: right;\">\n",
       "      <th></th>\n",
       "      <th>Status</th>\n",
       "      <th>Start Date</th>\n",
       "      <th>Full Name</th>\n",
       "      <th>Description</th>\n",
       "      <th>Multiplier</th>\n",
       "      <th>Pager</th>\n",
       "      <th>Primary</th>\n",
       "      <th>Pay Month</th>\n",
       "    </tr>\n",
       "  </thead>\n",
       "  <tbody>\n",
       "    <tr>\n",
       "      <th>0</th>\n",
       "      <td>Approved</td>\n",
       "      <td>2023-04-05</td>\n",
       "      <td>Linus Tian</td>\n",
       "      <td>Holiday - Tomb Sweeping</td>\n",
       "      <td>3.0</td>\n",
       "      <td>0</td>\n",
       "      <td>1</td>\n",
       "      <td>2023-06</td>\n",
       "    </tr>\n",
       "    <tr>\n",
       "      <th>1</th>\n",
       "      <td>Approved</td>\n",
       "      <td>2023-05-01</td>\n",
       "      <td>Alex Zhong</td>\n",
       "      <td>Holiday - Labor Day</td>\n",
       "      <td>3.0</td>\n",
       "      <td>0</td>\n",
       "      <td>1</td>\n",
       "      <td>2023-06</td>\n",
       "    </tr>\n",
       "    <tr>\n",
       "      <th>2</th>\n",
       "      <td>Approved</td>\n",
       "      <td>2023-05-02</td>\n",
       "      <td>Linus Tian</td>\n",
       "      <td>Holiday - Labor Day</td>\n",
       "      <td>2.0</td>\n",
       "      <td>0</td>\n",
       "      <td>1</td>\n",
       "      <td>2023-06</td>\n",
       "    </tr>\n",
       "    <tr>\n",
       "      <th>3</th>\n",
       "      <td>Approved</td>\n",
       "      <td>2023-05-03</td>\n",
       "      <td>Leo Yang</td>\n",
       "      <td>Holiday - Labor Day</td>\n",
       "      <td>2.0</td>\n",
       "      <td>0</td>\n",
       "      <td>1</td>\n",
       "      <td>2023-06</td>\n",
       "    </tr>\n",
       "    <tr>\n",
       "      <th>4</th>\n",
       "      <td>Approved</td>\n",
       "      <td>2023-05-27</td>\n",
       "      <td>Alex Zhong</td>\n",
       "      <td>Pager - 2 days</td>\n",
       "      <td>1.0</td>\n",
       "      <td>1</td>\n",
       "      <td>0</td>\n",
       "      <td>2023-06</td>\n",
       "    </tr>\n",
       "    <tr>\n",
       "      <th>5</th>\n",
       "      <td>Approved</td>\n",
       "      <td>2023-05-27</td>\n",
       "      <td>Leo Yang</td>\n",
       "      <td>Pager - 2 days</td>\n",
       "      <td>1.0</td>\n",
       "      <td>1</td>\n",
       "      <td>1</td>\n",
       "      <td>2023-06</td>\n",
       "    </tr>\n",
       "  </tbody>\n",
       "</table>\n",
       "</div>"
      ],
      "text/plain": [
       "     Status  Start Date   Full Name              Description  Multiplier  \\\n",
       "0  Approved  2023-04-05  Linus Tian  Holiday - Tomb Sweeping         3.0   \n",
       "1  Approved  2023-05-01  Alex Zhong      Holiday - Labor Day         3.0   \n",
       "2  Approved  2023-05-02  Linus Tian      Holiday - Labor Day         2.0   \n",
       "3  Approved  2023-05-03    Leo Yang      Holiday - Labor Day         2.0   \n",
       "4  Approved  2023-05-27  Alex Zhong           Pager - 2 days         1.0   \n",
       "5  Approved  2023-05-27    Leo Yang           Pager - 2 days         1.0   \n",
       "\n",
       "   Pager  Primary Pay Month  \n",
       "0      0        1   2023-06  \n",
       "1      0        1   2023-06  \n",
       "2      0        1   2023-06  \n",
       "3      0        1   2023-06  \n",
       "4      1        0   2023-06  \n",
       "5      1        1   2023-06  "
      ]
     },
     "execution_count": 4,
     "metadata": {},
     "output_type": "execute_result"
    }
   ],
   "source": [
    "overtime.add_records_from(\"requests_202306.csv\")"
   ]
  },
  {
   "cell_type": "code",
   "execution_count": 6,
   "metadata": {},
   "outputs": [
    {
     "name": "stdout",
     "output_type": "stream",
     "text": [
      "\n",
      "\n",
      "Query Pay Month: 2023-06\n",
      "        \n",
      "\n",
      ">>>> Track records of Overtime and Pager requests:\n",
      "        \n",
      "Pay Month Start Date  Employee ID Employee Name  Multiplier  Pager  Daily Rate  Amount\n",
      "2023-06   04/05      5745         Linus Tian    3.0         0      1255.09     3765.27\n",
      "2023-06   05/01      4947         Alex Zhong    3.0         0      1897.22     5691.66\n",
      "2023-06   05/02      5745         Linus Tian    2.0         0      1255.09     2510.18\n",
      "2023-06   05/03      4831           Leo Yang    2.0         0      1321.64     2643.28\n",
      "2023-06   05/27      4947         Alex Zhong    1.0         1      1000.00     1000.00\n",
      "2023-06   05/27      4831           Leo Yang    1.0         1      1000.00     1000.00\n",
      "        \n",
      "\n",
      ">>>> Amount Summary by employee:\n",
      "        \n",
      "Employee    # of Records  Total Amount\n",
      "Alex Zhong 2             6691.66      \n",
      "  Leo Yang 2             3643.28      \n",
      "Linus Tian 2             6275.45      \n",
      "\n",
      "\n",
      "        \n"
     ]
    }
   ],
   "source": [
    "print(overtime.query(\"2023-06\"))"
   ]
  },
  {
   "cell_type": "code",
   "execution_count": null,
   "metadata": {},
   "outputs": [],
   "source": []
  }
 ],
 "metadata": {
  "kernelspec": {
   "display_name": "exp",
   "language": "python",
   "name": "python3"
  },
  "language_info": {
   "codemirror_mode": {
    "name": "ipython",
    "version": 3
   },
   "file_extension": ".py",
   "mimetype": "text/x-python",
   "name": "python",
   "nbconvert_exporter": "python",
   "pygments_lexer": "ipython3",
   "version": "3.10.11"
  },
  "orig_nbformat": 4
 },
 "nbformat": 4,
 "nbformat_minor": 2
}
