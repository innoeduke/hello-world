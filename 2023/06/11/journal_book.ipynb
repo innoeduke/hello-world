{
 "cells": [
  {
   "cell_type": "code",
   "execution_count": 43,
   "metadata": {},
   "outputs": [],
   "source": [
    "# load all markdown files in the Journal folder\n",
    "\n",
    "import os\n",
    "import re\n",
    "\n",
    "date_pattern = r'\\d{4}/\\d{2}/\\d{2}'\n",
    "\n",
    "\n",
    "def get_markdown_files(path, skipped_files=['Journal.md']):\n",
    "    markdown_files = []\n",
    "    for root, dirs, files in os.walk(path):\n",
    "        for file in files:\n",
    "            if file.endswith(\".md\") and file not in skipped_files:\n",
    "                full_path = os.path.join(root, file)\n",
    "                if re.search(date_pattern, full_path):\n",
    "                    markdown_files.append(full_path)\n",
    "\n",
    "    # sort markdown files by date\n",
    "    markdown_files.sort(key=lambda x: re.search(\n",
    "        r'\\d{4}/\\d{2}/\\d{2}', x).group())\n",
    "    return markdown_files\n",
    "\n",
    "\n",
    "def write_markdown_files(markdown_files, output_file):\n",
    "    with open(output_file, \"w\") as outfile:\n",
    "        for fname in markdown_files:\n",
    "            with open(fname) as infile:\n",
    "                outfile.write(infile.read())\n",
    "                outfile.write(\"\\n\\n\")"
   ]
  },
  {
   "cell_type": "code",
   "execution_count": 46,
   "metadata": {},
   "outputs": [],
   "source": [
    "import os\n",
    "\n",
    "journal_folder = os.path.join(os.path.expanduser(\"~\"), \"Journal\")\n",
    "markdown_files = get_markdown_files(journal_folder)\n",
    "\n",
    "# write the markdown files to a single output file\n",
    "write_markdown_files(markdown_files, os.path.join(\n",
    "    journal_folder, \"Journal.md\"))"
   ]
  },
  {
   "cell_type": "code",
   "execution_count": 45,
   "metadata": {},
   "outputs": [],
   "source": [
    "\n"
   ]
  },
  {
   "cell_type": "code",
   "execution_count": null,
   "metadata": {},
   "outputs": [],
   "source": []
  }
 ],
 "metadata": {
  "kernelspec": {
   "display_name": "exp",
   "language": "python",
   "name": "python3"
  },
  "language_info": {
   "codemirror_mode": {
    "name": "ipython",
    "version": 3
   },
   "file_extension": ".py",
   "mimetype": "text/x-python",
   "name": "python",
   "nbconvert_exporter": "python",
   "pygments_lexer": "ipython3",
   "version": "3.10.11"
  },
  "orig_nbformat": 4
 },
 "nbformat": 4,
 "nbformat_minor": 2
}
